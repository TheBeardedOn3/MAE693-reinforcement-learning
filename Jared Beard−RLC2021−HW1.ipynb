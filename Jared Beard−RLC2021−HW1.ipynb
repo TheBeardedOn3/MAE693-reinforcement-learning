{
 "cells": [
  {
   "cell_type": "code",
   "execution_count": 1,
   "id": "progressive-thriller",
   "metadata": {},
   "outputs": [],
   "source": [
    "# Jared Beard\n",
    "# Homework 1\n",
    "# MAE 693 - Reinforcement Learning and Control\n",
    "# Dr. Ali Baheri\n",
    "\n",
    "# 26 February 2021"
   ]
  },
  {
   "cell_type": "code",
   "execution_count": null,
   "id": "entertaining-collection",
   "metadata": {},
   "outputs": [],
   "source": [
    "#####################################################################\n",
    "# NOTE: Some sections require user input. This was done to visualize\n",
    "#       the value function more intuitively\n",
    "#####################################################################"
   ]
  },
  {
   "cell_type": "code",
   "execution_count": 2,
   "id": "nuclear-dakota",
   "metadata": {},
   "outputs": [],
   "source": [
    "# References\n",
    "\n",
    "## Blogs and Websites\n",
    "# Reinforcement Learning: let’s teach a taxi-cab how to drive: <https://towardsdatascience.com/reinforcement-learning-lets-teach-a-taxi-cab-how-to-drive-4fd1a0d00529>\n",
    "# OpenAI Gym Documentation: <https://gym.openai.com/docs/>\n",
    "\n",
    "## Code\n",
    "# Github: openai/gym/gym/envs/toy_text/taxi.py: <https://github.com/openai/gym/blob/master/gym/envs/toy_text/taxi.py>\n",
    "\n",
    "## Textbooks\n",
    "# Mykel J. Kochenderfer. Decision Making Under Uncertainty: Theory and Application\n"
   ]
  },
  {
   "cell_type": "code",
   "execution_count": 8,
   "id": "reliable-scientist",
   "metadata": {},
   "outputs": [],
   "source": [
    "#Import packages\n",
    "import numpy as np\n",
    "import matplotlib.pyplot as plt\n",
    "import time\n",
    "\n",
    "import gym"
   ]
  },
  {
   "cell_type": "code",
   "execution_count": 9,
   "id": "persistent-pleasure",
   "metadata": {},
   "outputs": [],
   "source": [
    "# Functions\n",
    "def policy_iteration(env, policy_prev, epsilon,gamma=1.0):\n",
    "    policy = np.copy(policy_prev)\n",
    "    value = np.zeros(np.shape(policy_prev))\n",
    "    value_prev = value\n",
    "    diff = epsilon * 10\n",
    "    k = 0\n",
    "    # Put it in additional check to prevent false stopping\n",
    "    while (diff > epsilon or k < 5): \n",
    "        # Policy Evaluation\n",
    "        for i in range(500):\n",
    "            index = env.decode(i)\n",
    "            idx = list(index)\n",
    "            env.s = i\n",
    "            next_state, reward, done, info = env.step(policy_prev[idx[0]][idx[1]][idx[2]][idx[3]])\n",
    "            li = list(env.decode(next_state))\n",
    "            v = value_prev[li[0]][li[1]][li[2]][li[3]]\n",
    "            value[idx[0]][idx[1]][idx[2]][idx[3]] = reward + gamma*v\n",
    "        # Policy Iteration\n",
    "        for i in range(500):\n",
    "            index = env.decode(i)\n",
    "            idx = list(index)\n",
    "            policy_temp = np.zeros((6,1))\n",
    "            for j in range(6):\n",
    "                env.s = i\n",
    "                next_state, reward, done, info = env.step(j)\n",
    "                li = list(env.decode(next_state))\n",
    "                v = value_prev[li[0]][li[1]][li[2]][li[3]]\n",
    "                policy_temp[j] = reward + gamma*v\n",
    "            policy[idx[0]][idx[1]][idx[2]][idx[3]] = np.argmax(policy_temp)\n",
    "                                                         \n",
    "        diff = np.sum(np.absolute(policy - policy_prev))\n",
    "        print(diff)\n",
    "        #print(policy_prev)\n",
    "        #print('start')\n",
    "        #print(policy)\n",
    "        value_prev = np.copy(value)\n",
    "        policy_prev = np.copy(policy)\n",
    "        k += 1\n",
    "        \n",
    "    return policy, value"
   ]
  },
  {
   "cell_type": "code",
   "execution_count": 12,
   "id": "engaging-switch",
   "metadata": {},
   "outputs": [],
   "source": [
    "# Initialize setup\n",
    "taxi_env  = gym.make(\"Taxi-v2\").env\n",
    "epsilon = 0.5\n",
    "policy = np.zeros((5,5,5,4))\n",
    "gamma = 0.99 # Don't use 1, this will cause it to run infinitely\n"
   ]
  },
  {
   "cell_type": "code",
   "execution_count": 13,
   "id": "criminal-quarterly",
   "metadata": {},
   "outputs": [
    {
     "name": "stdout",
     "output_type": "stream",
     "text": [
      "20.0\n",
      "0.0\n",
      "26.0\n",
      "3.0\n",
      "27.0\n",
      "14.0\n",
      "52.0\n",
      "24.0\n",
      "64.0\n",
      "21.0\n",
      "65.0\n",
      "21.0\n",
      "68.0\n",
      "24.0\n",
      "56.0\n",
      "19.0\n",
      "51.0\n",
      "26.0\n",
      "61.0\n",
      "34.0\n",
      "64.0\n",
      "43.0\n",
      "64.0\n",
      "37.0\n",
      "52.0\n",
      "29.0\n",
      "30.0\n",
      "12.0\n",
      "16.0\n",
      "8.0\n",
      "9.0\n",
      "3.0\n",
      "1.0\n",
      "0.0\n"
     ]
    }
   ],
   "source": [
    "# Run code\n",
    "policy, value = policy_iteration(taxi_env, policy, epsilon, gamma)"
   ]
  },
  {
   "cell_type": "code",
   "execution_count": 27,
   "id": "reflected-livestock",
   "metadata": {},
   "outputs": [
    {
     "name": "stdout",
     "output_type": "stream",
     "text": [
      "['R', 'G', 'Y', 'B']\n",
      "R: (0,0)\n",
      "G: (0,4)\n",
      "Y: (4,0)\n",
      "B: (4,3)\n",
      " Enter Passenger Location (R,G,Y,B): R\n",
      " Enter Goal Location (R,G,Y,B): Y\n",
      "\n",
      "\n",
      "Prior to picking up passenger at R\n"
     ]
    },
    {
     "data": {
      "image/png": "[encoded data removed]",
      "text/plain": [
       "<Figure size 432x288 with 1 Axes>"
      ]
     },
     "metadata": {
      "needs_background": "light"
     },
     "output_type": "display_data"
    },
    {
     "name": "stdout",
     "output_type": "stream",
     "text": [
      "\n",
      "\n",
      "With passenger onboard, headed to Y\n"
     ]
    },
    {
     "data": {
      "image/png": "[encoded data removed]",
      "text/plain": [
       "<Figure size 432x288 with 1 Axes>"
      ]
     },
     "metadata": {
      "needs_background": "light"
     },
     "output_type": "display_data"
    }
   ],
   "source": [
    "# Output value function\n",
    "    # To check the value function, you must choose the desired\n",
    "    # start and goal, to look at. This was done to visualize\n",
    "    # how a user may look at a map. Green values are the largest\n",
    "\n",
    "locations = ['R', 'G', 'Y', 'B']\n",
    "print(locations)\n",
    "print('R: (0,0)')\n",
    "print('G: (0,4)')\n",
    "print('Y: (4,0)')\n",
    "print('B: (4,3)')\n",
    "print('Coordinates are listed in (y,x) as done in simulation')\n",
    "passenger = input(' Enter Passenger Location (R,G,Y,B): ')\n",
    "goal = input(' Enter Goal Location (R,G,Y,B): ')\n",
    "\n",
    "pass_idx = locations.index(passenger)\n",
    "goal_idx = locations.index(goal)\n",
    "\n",
    "\n",
    "print('\\n')\n",
    "print('Prior to picking up passenger at ' + passenger)\n",
    "#print(value[:,:,pass_idx,goal_idx])\n",
    "plt.imshow(value[:,:,pass_idx,goal_idx], cmap='RdYlGn', interpolation='nearest')\n",
    "plt.show()\n",
    "\n",
    "\n",
    "print('\\n')\n",
    "print('With passenger onboard, headed to ' + goal)\n",
    "#print(value[:,:,4,goal_idx])\n",
    "plt.imshow(value[:,:,4,goal_idx], cmap='RdYlGn', interpolation='nearest')\n",
    "plt.show()\n",
    "# Print value given passenger and goal coordinates\n",
    "# maybe add some color coordination\n",
    "\n",
    "#Print one prior to passenger pick up and one after"
   ]
  },
  {
   "cell_type": "code",
   "execution_count": 24,
   "id": "smart-stroke",
   "metadata": {
    "scrolled": true
   },
   "outputs": [
    {
     "name": "stdout",
     "output_type": "stream",
     "text": [
      "+---------+\n",
      "|\u001b[35m\u001b[34;1mR\u001b[0m\u001b[0m: | : :G|\n",
      "| : : : : |\n",
      "| : : : : |\n",
      "|\u001b[43m \u001b[0m| : | : |\n",
      "|Y| : |B: |\n",
      "+---------+\n",
      "\n",
      "[2, 0, 0, 0]\n",
      "1.0\n",
      "+---------+\n",
      "|\u001b[35m\u001b[34;1mR\u001b[0m\u001b[0m: | : :G|\n",
      "| : : : : |\n",
      "|\u001b[43m \u001b[0m: : : : |\n",
      "| | : | : |\n",
      "|Y| : |B: |\n",
      "+---------+\n",
      "  (North)\n",
      "[1, 0, 0, 0]\n",
      "1.0\n",
      "+---------+\n",
      "|\u001b[35m\u001b[34;1mR\u001b[0m\u001b[0m: | : :G|\n",
      "|\u001b[43m \u001b[0m: : : : |\n",
      "| : : : : |\n",
      "| | : | : |\n",
      "|Y| : |B: |\n",
      "+---------+\n",
      "  (North)\n",
      "[0, 0, 0, 0]\n",
      "4.0\n",
      "+---------+\n",
      "|\u001b[35m\u001b[34;1m\u001b[43mR\u001b[0m\u001b[0m\u001b[0m: | : :G|\n",
      "| : : : : |\n",
      "| : : : : |\n",
      "| | : | : |\n",
      "|Y| : |B: |\n",
      "+---------+\n",
      "  (North)\n",
      "[0, 0, 4, 0]\n",
      "5.0\n",
      "+---------+\n",
      "|\u001b[35m\u001b[42mR\u001b[0m\u001b[0m: | : :G|\n",
      "| : : : : |\n",
      "| : : : : |\n",
      "| | : | : |\n",
      "|Y| : |B: |\n",
      "+---------+\n",
      "  (Pickup)\n",
      "[0, 0, 0, 0]\n",
      "4.0\n",
      "+---------+\n",
      "|\u001b[35m\u001b[34;1m\u001b[43mR\u001b[0m\u001b[0m\u001b[0m: | : :G|\n",
      "| : : : : |\n",
      "| : : : : |\n",
      "| | : | : |\n",
      "|Y| : |B: |\n",
      "+---------+\n",
      "  (Dropoff)\n"
     ]
    }
   ],
   "source": [
    "# Random Test Generator\n",
    "\n",
    "taxi_env.reset()\n",
    "rn1 = int(round(4*np.random.random()))\n",
    "rn2 = int(round(4*np.random.random()))\n",
    "rn3 = int(round(3*np.random.random()))\n",
    "rn4 = int(round(3*np.random.random()))\n",
    "idx = (rn1, rn2, rn3, rn4)\n",
    "taxi_env.s = taxi_env.encode(rn1,rn2,rn3,rn4)\n",
    "taxi_env.render()\n",
    "\n",
    "done = False\n",
    "while (not done):\n",
    "    next_state, reward, done, info = taxi_env.step(int(policy[idx[0]][idx[1]][idx[2]][idx[3]]))\n",
    "    idx = list(taxi_env.decode(next_state))\n",
    "    print(idx)\n",
    "    print(policy[idx[0]][idx[1]][idx[2]][idx[3]])\n",
    "    taxi_env.render()"
   ]
  }
 ],
 "metadata": {
  "kernelspec": {
   "display_name": "Python 3",
   "language": "python",
   "name": "python3"
  },
  "language_info": {
   "codemirror_mode": {
    "name": "ipython",
    "version": 3
   },
   "file_extension": ".py",
   "mimetype": "text/x-python",
   "name": "python",
   "nbconvert_exporter": "python",
   "pygments_lexer": "ipython3",
   "version": "3.6.9"
  }
 },
 "nbformat": 4,
 "nbformat_minor": 5
}
